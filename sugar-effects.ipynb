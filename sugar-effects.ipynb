{
 "cells": [
  {
   "cell_type": "markdown",
   "metadata": {},
   "source": [
    "# Project: Investigate Relationships Between Sugar Consumption and Health In The United States\n",
    "\n",
    "## Table of Contents\n",
    "<ul>\n",
    "<li><a href=\"#intro\">Introduction</a></li>\n",
    "<li><a href=\"#wrangling\">Data Wrangling</a></li>\n",
    "<li><a href=\"#eda\">Exploratory Data Analysis</a></li>\n",
    "<li><a href=\"#conclusions\">Conclusions</a></li>\n",
    "</ul>"
   ]
  },
  {
   "cell_type": "markdown",
   "metadata": {},
   "source": [
    "<a id='intro'></a>\n",
    "## Introduction\n",
    "\n",
    "> The following datasets have been compiled by Gapminder through various sources, including the UN, IMHE, FAOSTAT, and GDB 2017. They are relatively clean and easy to work with. Specifically, we are looking at [Life Expectancy from Birth v 11](https://www.gapminder.org/data/), [Sugar per person (g per day)](https://www.gapminder.org/data/), [Liver cancer, new cases per 100000 men](https://www.gapminder.org/data/), and [Liver cancer, new cases per 100000 women](https://www.gapminder.org/data/).<br>\n",
    ">\n",
    "> Sugar consumption has been under scrutiny recently with the claim that it causes many health problems. I would like to determine if there is any correlation between sugar consumption and life expectancy. If the claim that sugar is bad for your health is true, then maybe we would see a negative correlation between sugar consumption and life expectancy. We also look at sugar consumption and new liver cancer cases per 100,000 men and women. Is there a positive correlation between sugar consumption and new cases of liver cancer? \n",
    ">\n",
    "> Before answering these questions, is there a general increasing or decreasing trend across any/all of the four identifiers?\n",
    ">\n",
    "> Note - the indicators are selected for United States, but we could have chosen any of 150 countries in our combined dataset."
   ]
  },
  {
   "cell_type": "markdown",
   "metadata": {},
   "source": [
    "Now that we have some questions we would like to answer and the relevant datasets, let's begin by loading Python's Numpy, Pandas, and Matplotlib library in order to analyze and visualize the data."
   ]
  },
  {
   "cell_type": "code",
   "execution_count": 1,
   "metadata": {},
   "outputs": [],
   "source": [
    "import pandas as pd\n",
    "import numpy as np\n",
    "import matplotlib.pyplot as plt\n",
    "%matplotlib inline"
   ]
  },
  {
   "cell_type": "markdown",
   "metadata": {},
   "source": [
    "The following functions are used to clean and trim the datasets, are are futher described in the <a href=\"#wrangling\">Data Wrangling</a> section of the report."
   ]
  },
  {
   "cell_type": "code",
   "execution_count": 2,
   "metadata": {},
   "outputs": [],
   "source": [
    "def munge(df):\n",
    "    \"\"\"Returns a DataFrame with Year as index and Country as column\"\"\"\n",
    "    \n",
    "    df_t = df.transpose().copy()\n",
    "    old_columns = [x for x in range(len(df_t.columns))]\n",
    "    new_columns = df_t.loc['country'].values\n",
    "    countries_columns = dict(zip(old_columns, new_columns))\n",
    "    df_t.rename(columns=countries_columns, inplace=True)\n",
    "    df_t.drop(labels='country', axis=0, inplace=True)\n",
    "    return df_t"
   ]
  },
  {
   "cell_type": "code",
   "execution_count": 3,
   "metadata": {},
   "outputs": [],
   "source": [
    "def match_shape(df_1, df_2):\n",
    "    \"\"\"Returns matching sized DataFrames\"\"\"\n",
    "    \n",
    "    if df_1.shape != df_2.shape:\n",
    "        # Remove indices in either DataFrame that are not in both so DataFrames have matching index\n",
    "        rm_indices = list(set(df_1.index) ^ set(df_2.index))\n",
    "        df_1.drop(index=(set(df_1.index) & set(rm_indices)), inplace=True)\n",
    "        df_2.drop(index=(set(df_2.index) & set(rm_indices)), inplace=True)\n",
    "        # Remove columns in either DataFrame that are not in both so DataFrames have matching columns.\n",
    "        rm_columns = list(set(df_1.columns) ^ set(df_2.columns))\n",
    "        df_1.drop(columns=(set(df_1.columns) & set(rm_columns)), inplace=True)\n",
    "        df_2.drop(columns=(set(df_2.columns) & set(rm_columns)), inplace=True)\n",
    "    return df_1, df_2"
   ]
  },
  {
   "cell_type": "markdown",
   "metadata": {},
   "source": [
    "Let's load the datasets. We have four datasets:\n",
    "\n",
    "<ul>\n",
    "<li>df_cancer_m - new liver cancer cases per 100k male</li>\n",
    "<li>df_cancer_f - new liver cancer cases per 100k female</li>\n",
    "<li>df_life - life expectancy from birth given in years</li>\n",
    "<li>df_sugar - sugar consumption in grams per person per day</li>\n",
    "</ul>\n",
    "I chose cancer data sets per 100k male/female rather than total number of cases given a population because as a population grows larger it is likely that cancer cases will also increase. With a case per 100k fixed population size it will be easier to see if cancer rates are actually increasing."
   ]
  },
  {
   "cell_type": "code",
   "execution_count": 4,
   "metadata": {},
   "outputs": [],
   "source": [
    "df_cancer_m = pd.read_csv('liver_cancer_new_cases_per_100000_men.csv')\n",
    "df_cancer_f = pd.read_csv('liver_cancer_new_cases_per_100000_women.csv')\n",
    "df_sugar = pd.read_csv('sugar_per_person_g_per_day.csv')\n",
    "df_life = pd.read_csv('life_expectancy_years.csv')"
   ]
  },
  {
   "cell_type": "markdown",
   "metadata": {},
   "source": [
    "Let's look at the data to get familiar with the variables and ontext, and to see what needs to be cleaned and modified before futher analysis."
   ]
  },
  {
   "cell_type": "code",
   "execution_count": 5,
   "metadata": {},
   "outputs": [
    {
     "data": {
      "text/html": [
       "<div>\n",
       "<style scoped>\n",
       "    .dataframe tbody tr th:only-of-type {\n",
       "        vertical-align: middle;\n",
       "    }\n",
       "\n",
       "    .dataframe tbody tr th {\n",
       "        vertical-align: top;\n",
       "    }\n",
       "\n",
       "    .dataframe thead th {\n",
       "        text-align: right;\n",
       "    }\n",
       "</style>\n",
       "<table border=\"1\" class=\"dataframe\">\n",
       "  <thead>\n",
       "    <tr style=\"text-align: right;\">\n",
       "      <th></th>\n",
       "      <th>country</th>\n",
       "      <th>1953</th>\n",
       "      <th>1954</th>\n",
       "      <th>1955</th>\n",
       "      <th>1956</th>\n",
       "      <th>1957</th>\n",
       "      <th>1958</th>\n",
       "      <th>1959</th>\n",
       "      <th>1960</th>\n",
       "      <th>1961</th>\n",
       "      <th>...</th>\n",
       "      <th>2007</th>\n",
       "      <th>2008</th>\n",
       "      <th>2009</th>\n",
       "      <th>2010</th>\n",
       "      <th>2011</th>\n",
       "      <th>2012</th>\n",
       "      <th>2013</th>\n",
       "      <th>2014</th>\n",
       "      <th>2015</th>\n",
       "      <th>2016</th>\n",
       "    </tr>\n",
       "  </thead>\n",
       "  <tbody>\n",
       "    <tr>\n",
       "      <th>0</th>\n",
       "      <td>Afghanistan</td>\n",
       "      <td>NaN</td>\n",
       "      <td>NaN</td>\n",
       "      <td>NaN</td>\n",
       "      <td>NaN</td>\n",
       "      <td>NaN</td>\n",
       "      <td>NaN</td>\n",
       "      <td>NaN</td>\n",
       "      <td>NaN</td>\n",
       "      <td>NaN</td>\n",
       "      <td>...</td>\n",
       "      <td>6.65</td>\n",
       "      <td>6.69</td>\n",
       "      <td>6.73</td>\n",
       "      <td>6.78</td>\n",
       "      <td>6.78</td>\n",
       "      <td>6.80</td>\n",
       "      <td>6.82</td>\n",
       "      <td>6.84</td>\n",
       "      <td>6.86</td>\n",
       "      <td>6.90</td>\n",
       "    </tr>\n",
       "    <tr>\n",
       "      <th>1</th>\n",
       "      <td>Albania</td>\n",
       "      <td>NaN</td>\n",
       "      <td>NaN</td>\n",
       "      <td>NaN</td>\n",
       "      <td>NaN</td>\n",
       "      <td>NaN</td>\n",
       "      <td>NaN</td>\n",
       "      <td>NaN</td>\n",
       "      <td>NaN</td>\n",
       "      <td>NaN</td>\n",
       "      <td>...</td>\n",
       "      <td>13.80</td>\n",
       "      <td>13.50</td>\n",
       "      <td>13.30</td>\n",
       "      <td>13.00</td>\n",
       "      <td>13.10</td>\n",
       "      <td>13.20</td>\n",
       "      <td>13.30</td>\n",
       "      <td>13.40</td>\n",
       "      <td>13.50</td>\n",
       "      <td>13.60</td>\n",
       "    </tr>\n",
       "    <tr>\n",
       "      <th>2</th>\n",
       "      <td>Algeria</td>\n",
       "      <td>NaN</td>\n",
       "      <td>NaN</td>\n",
       "      <td>NaN</td>\n",
       "      <td>NaN</td>\n",
       "      <td>NaN</td>\n",
       "      <td>NaN</td>\n",
       "      <td>NaN</td>\n",
       "      <td>NaN</td>\n",
       "      <td>NaN</td>\n",
       "      <td>...</td>\n",
       "      <td>2.53</td>\n",
       "      <td>2.56</td>\n",
       "      <td>2.59</td>\n",
       "      <td>2.63</td>\n",
       "      <td>2.65</td>\n",
       "      <td>2.67</td>\n",
       "      <td>2.69</td>\n",
       "      <td>2.71</td>\n",
       "      <td>2.74</td>\n",
       "      <td>2.76</td>\n",
       "    </tr>\n",
       "    <tr>\n",
       "      <th>3</th>\n",
       "      <td>Andorra</td>\n",
       "      <td>NaN</td>\n",
       "      <td>NaN</td>\n",
       "      <td>NaN</td>\n",
       "      <td>NaN</td>\n",
       "      <td>NaN</td>\n",
       "      <td>NaN</td>\n",
       "      <td>NaN</td>\n",
       "      <td>NaN</td>\n",
       "      <td>NaN</td>\n",
       "      <td>...</td>\n",
       "      <td>6.40</td>\n",
       "      <td>6.43</td>\n",
       "      <td>6.46</td>\n",
       "      <td>6.50</td>\n",
       "      <td>6.56</td>\n",
       "      <td>6.62</td>\n",
       "      <td>6.69</td>\n",
       "      <td>6.76</td>\n",
       "      <td>6.83</td>\n",
       "      <td>6.91</td>\n",
       "    </tr>\n",
       "    <tr>\n",
       "      <th>4</th>\n",
       "      <td>Angola</td>\n",
       "      <td>NaN</td>\n",
       "      <td>NaN</td>\n",
       "      <td>NaN</td>\n",
       "      <td>NaN</td>\n",
       "      <td>NaN</td>\n",
       "      <td>NaN</td>\n",
       "      <td>NaN</td>\n",
       "      <td>NaN</td>\n",
       "      <td>NaN</td>\n",
       "      <td>...</td>\n",
       "      <td>16.50</td>\n",
       "      <td>16.70</td>\n",
       "      <td>16.80</td>\n",
       "      <td>17.00</td>\n",
       "      <td>17.00</td>\n",
       "      <td>17.10</td>\n",
       "      <td>17.10</td>\n",
       "      <td>17.10</td>\n",
       "      <td>17.20</td>\n",
       "      <td>17.20</td>\n",
       "    </tr>\n",
       "  </tbody>\n",
       "</table>\n",
       "<p>5 rows × 65 columns</p>\n",
       "</div>"
      ],
      "text/plain": [
       "       country  1953  1954  1955  1956  1957  1958  1959  1960  1961  ...  \\\n",
       "0  Afghanistan   NaN   NaN   NaN   NaN   NaN   NaN   NaN   NaN   NaN  ...   \n",
       "1      Albania   NaN   NaN   NaN   NaN   NaN   NaN   NaN   NaN   NaN  ...   \n",
       "2      Algeria   NaN   NaN   NaN   NaN   NaN   NaN   NaN   NaN   NaN  ...   \n",
       "3      Andorra   NaN   NaN   NaN   NaN   NaN   NaN   NaN   NaN   NaN  ...   \n",
       "4       Angola   NaN   NaN   NaN   NaN   NaN   NaN   NaN   NaN   NaN  ...   \n",
       "\n",
       "    2007   2008   2009   2010   2011   2012   2013   2014   2015   2016  \n",
       "0   6.65   6.69   6.73   6.78   6.78   6.80   6.82   6.84   6.86   6.90  \n",
       "1  13.80  13.50  13.30  13.00  13.10  13.20  13.30  13.40  13.50  13.60  \n",
       "2   2.53   2.56   2.59   2.63   2.65   2.67   2.69   2.71   2.74   2.76  \n",
       "3   6.40   6.43   6.46   6.50   6.56   6.62   6.69   6.76   6.83   6.91  \n",
       "4  16.50  16.70  16.80  17.00  17.00  17.10  17.10  17.10  17.20  17.20  \n",
       "\n",
       "[5 rows x 65 columns]"
      ]
     },
     "execution_count": 5,
     "metadata": {},
     "output_type": "execute_result"
    }
   ],
   "source": [
    "df_cancer_m.head()"
   ]
  },
  {
   "cell_type": "code",
   "execution_count": 6,
   "metadata": {},
   "outputs": [
    {
     "data": {
      "text/plain": [
       "(187, 65)"
      ]
     },
     "execution_count": 6,
     "metadata": {},
     "output_type": "execute_result"
    }
   ],
   "source": [
    "df_cancer_m.shape"
   ]
  },
  {
   "cell_type": "code",
   "execution_count": 7,
   "metadata": {},
   "outputs": [
    {
     "data": {
      "text/html": [
       "<div>\n",
       "<style scoped>\n",
       "    .dataframe tbody tr th:only-of-type {\n",
       "        vertical-align: middle;\n",
       "    }\n",
       "\n",
       "    .dataframe tbody tr th {\n",
       "        vertical-align: top;\n",
       "    }\n",
       "\n",
       "    .dataframe thead th {\n",
       "        text-align: right;\n",
       "    }\n",
       "</style>\n",
       "<table border=\"1\" class=\"dataframe\">\n",
       "  <thead>\n",
       "    <tr style=\"text-align: right;\">\n",
       "      <th></th>\n",
       "      <th>country</th>\n",
       "      <th>1953</th>\n",
       "      <th>1954</th>\n",
       "      <th>1955</th>\n",
       "      <th>1956</th>\n",
       "      <th>1957</th>\n",
       "      <th>1958</th>\n",
       "      <th>1959</th>\n",
       "      <th>1960</th>\n",
       "      <th>1961</th>\n",
       "      <th>...</th>\n",
       "      <th>2007</th>\n",
       "      <th>2008</th>\n",
       "      <th>2009</th>\n",
       "      <th>2010</th>\n",
       "      <th>2011</th>\n",
       "      <th>2012</th>\n",
       "      <th>2013</th>\n",
       "      <th>2014</th>\n",
       "      <th>2015</th>\n",
       "      <th>2016</th>\n",
       "    </tr>\n",
       "  </thead>\n",
       "  <tbody>\n",
       "    <tr>\n",
       "      <th>0</th>\n",
       "      <td>Afghanistan</td>\n",
       "      <td>NaN</td>\n",
       "      <td>NaN</td>\n",
       "      <td>NaN</td>\n",
       "      <td>NaN</td>\n",
       "      <td>NaN</td>\n",
       "      <td>NaN</td>\n",
       "      <td>NaN</td>\n",
       "      <td>NaN</td>\n",
       "      <td>NaN</td>\n",
       "      <td>...</td>\n",
       "      <td>5.94</td>\n",
       "      <td>5.93</td>\n",
       "      <td>5.91</td>\n",
       "      <td>5.92</td>\n",
       "      <td>5.87</td>\n",
       "      <td>5.85</td>\n",
       "      <td>5.82</td>\n",
       "      <td>5.79</td>\n",
       "      <td>5.77</td>\n",
       "      <td>5.75</td>\n",
       "    </tr>\n",
       "    <tr>\n",
       "      <th>1</th>\n",
       "      <td>Albania</td>\n",
       "      <td>NaN</td>\n",
       "      <td>NaN</td>\n",
       "      <td>NaN</td>\n",
       "      <td>NaN</td>\n",
       "      <td>NaN</td>\n",
       "      <td>NaN</td>\n",
       "      <td>NaN</td>\n",
       "      <td>NaN</td>\n",
       "      <td>NaN</td>\n",
       "      <td>...</td>\n",
       "      <td>5.14</td>\n",
       "      <td>4.90</td>\n",
       "      <td>4.68</td>\n",
       "      <td>4.47</td>\n",
       "      <td>4.48</td>\n",
       "      <td>4.49</td>\n",
       "      <td>4.51</td>\n",
       "      <td>4.52</td>\n",
       "      <td>4.54</td>\n",
       "      <td>4.56</td>\n",
       "    </tr>\n",
       "    <tr>\n",
       "      <th>2</th>\n",
       "      <td>Algeria</td>\n",
       "      <td>NaN</td>\n",
       "      <td>NaN</td>\n",
       "      <td>NaN</td>\n",
       "      <td>NaN</td>\n",
       "      <td>NaN</td>\n",
       "      <td>NaN</td>\n",
       "      <td>NaN</td>\n",
       "      <td>NaN</td>\n",
       "      <td>NaN</td>\n",
       "      <td>...</td>\n",
       "      <td>1.44</td>\n",
       "      <td>1.46</td>\n",
       "      <td>1.47</td>\n",
       "      <td>1.48</td>\n",
       "      <td>1.49</td>\n",
       "      <td>1.50</td>\n",
       "      <td>1.51</td>\n",
       "      <td>1.52</td>\n",
       "      <td>1.53</td>\n",
       "      <td>1.54</td>\n",
       "    </tr>\n",
       "    <tr>\n",
       "      <th>3</th>\n",
       "      <td>Andorra</td>\n",
       "      <td>NaN</td>\n",
       "      <td>NaN</td>\n",
       "      <td>NaN</td>\n",
       "      <td>NaN</td>\n",
       "      <td>NaN</td>\n",
       "      <td>NaN</td>\n",
       "      <td>NaN</td>\n",
       "      <td>NaN</td>\n",
       "      <td>NaN</td>\n",
       "      <td>...</td>\n",
       "      <td>2.40</td>\n",
       "      <td>2.40</td>\n",
       "      <td>2.41</td>\n",
       "      <td>2.42</td>\n",
       "      <td>2.44</td>\n",
       "      <td>2.46</td>\n",
       "      <td>2.49</td>\n",
       "      <td>2.51</td>\n",
       "      <td>2.54</td>\n",
       "      <td>2.57</td>\n",
       "    </tr>\n",
       "    <tr>\n",
       "      <th>4</th>\n",
       "      <td>Angola</td>\n",
       "      <td>NaN</td>\n",
       "      <td>NaN</td>\n",
       "      <td>NaN</td>\n",
       "      <td>NaN</td>\n",
       "      <td>NaN</td>\n",
       "      <td>NaN</td>\n",
       "      <td>NaN</td>\n",
       "      <td>NaN</td>\n",
       "      <td>NaN</td>\n",
       "      <td>...</td>\n",
       "      <td>7.18</td>\n",
       "      <td>7.16</td>\n",
       "      <td>7.15</td>\n",
       "      <td>7.13</td>\n",
       "      <td>7.08</td>\n",
       "      <td>7.02</td>\n",
       "      <td>6.97</td>\n",
       "      <td>6.92</td>\n",
       "      <td>6.87</td>\n",
       "      <td>6.83</td>\n",
       "    </tr>\n",
       "  </tbody>\n",
       "</table>\n",
       "<p>5 rows × 65 columns</p>\n",
       "</div>"
      ],
      "text/plain": [
       "       country  1953  1954  1955  1956  1957  1958  1959  1960  1961  ...  \\\n",
       "0  Afghanistan   NaN   NaN   NaN   NaN   NaN   NaN   NaN   NaN   NaN  ...   \n",
       "1      Albania   NaN   NaN   NaN   NaN   NaN   NaN   NaN   NaN   NaN  ...   \n",
       "2      Algeria   NaN   NaN   NaN   NaN   NaN   NaN   NaN   NaN   NaN  ...   \n",
       "3      Andorra   NaN   NaN   NaN   NaN   NaN   NaN   NaN   NaN   NaN  ...   \n",
       "4       Angola   NaN   NaN   NaN   NaN   NaN   NaN   NaN   NaN   NaN  ...   \n",
       "\n",
       "   2007  2008  2009  2010  2011  2012  2013  2014  2015  2016  \n",
       "0  5.94  5.93  5.91  5.92  5.87  5.85  5.82  5.79  5.77  5.75  \n",
       "1  5.14  4.90  4.68  4.47  4.48  4.49  4.51  4.52  4.54  4.56  \n",
       "2  1.44  1.46  1.47  1.48  1.49  1.50  1.51  1.52  1.53  1.54  \n",
       "3  2.40  2.40  2.41  2.42  2.44  2.46  2.49  2.51  2.54  2.57  \n",
       "4  7.18  7.16  7.15  7.13  7.08  7.02  6.97  6.92  6.87  6.83  \n",
       "\n",
       "[5 rows x 65 columns]"
      ]
     },
     "execution_count": 7,
     "metadata": {},
     "output_type": "execute_result"
    }
   ],
   "source": [
    "df_cancer_f.head()"
   ]
  },
  {
   "cell_type": "code",
   "execution_count": 8,
   "metadata": {},
   "outputs": [
    {
     "data": {
      "text/plain": [
       "(187, 65)"
      ]
     },
     "execution_count": 8,
     "metadata": {},
     "output_type": "execute_result"
    }
   ],
   "source": [
    "df_cancer_f.shape"
   ]
  },
  {
   "cell_type": "code",
   "execution_count": 9,
   "metadata": {},
   "outputs": [
    {
     "data": {
      "text/html": [
       "<div>\n",
       "<style scoped>\n",
       "    .dataframe tbody tr th:only-of-type {\n",
       "        vertical-align: middle;\n",
       "    }\n",
       "\n",
       "    .dataframe tbody tr th {\n",
       "        vertical-align: top;\n",
       "    }\n",
       "\n",
       "    .dataframe thead th {\n",
       "        text-align: right;\n",
       "    }\n",
       "</style>\n",
       "<table border=\"1\" class=\"dataframe\">\n",
       "  <thead>\n",
       "    <tr style=\"text-align: right;\">\n",
       "      <th></th>\n",
       "      <th>country</th>\n",
       "      <th>1800</th>\n",
       "      <th>1801</th>\n",
       "      <th>1802</th>\n",
       "      <th>1803</th>\n",
       "      <th>1804</th>\n",
       "      <th>1805</th>\n",
       "      <th>1806</th>\n",
       "      <th>1807</th>\n",
       "      <th>1808</th>\n",
       "      <th>...</th>\n",
       "      <th>2091</th>\n",
       "      <th>2092</th>\n",
       "      <th>2093</th>\n",
       "      <th>2094</th>\n",
       "      <th>2095</th>\n",
       "      <th>2096</th>\n",
       "      <th>2097</th>\n",
       "      <th>2098</th>\n",
       "      <th>2099</th>\n",
       "      <th>2100</th>\n",
       "    </tr>\n",
       "  </thead>\n",
       "  <tbody>\n",
       "    <tr>\n",
       "      <th>0</th>\n",
       "      <td>Afghanistan</td>\n",
       "      <td>28.2</td>\n",
       "      <td>28.2</td>\n",
       "      <td>28.2</td>\n",
       "      <td>28.2</td>\n",
       "      <td>28.2</td>\n",
       "      <td>28.2</td>\n",
       "      <td>28.1</td>\n",
       "      <td>28.1</td>\n",
       "      <td>28.1</td>\n",
       "      <td>...</td>\n",
       "      <td>76.5</td>\n",
       "      <td>76.6</td>\n",
       "      <td>76.7</td>\n",
       "      <td>76.9</td>\n",
       "      <td>77.0</td>\n",
       "      <td>77.1</td>\n",
       "      <td>77.3</td>\n",
       "      <td>77.4</td>\n",
       "      <td>77.5</td>\n",
       "      <td>77.7</td>\n",
       "    </tr>\n",
       "    <tr>\n",
       "      <th>1</th>\n",
       "      <td>Albania</td>\n",
       "      <td>35.4</td>\n",
       "      <td>35.4</td>\n",
       "      <td>35.4</td>\n",
       "      <td>35.4</td>\n",
       "      <td>35.4</td>\n",
       "      <td>35.4</td>\n",
       "      <td>35.4</td>\n",
       "      <td>35.4</td>\n",
       "      <td>35.4</td>\n",
       "      <td>...</td>\n",
       "      <td>87.4</td>\n",
       "      <td>87.5</td>\n",
       "      <td>87.6</td>\n",
       "      <td>87.7</td>\n",
       "      <td>87.8</td>\n",
       "      <td>87.9</td>\n",
       "      <td>88.0</td>\n",
       "      <td>88.1</td>\n",
       "      <td>88.2</td>\n",
       "      <td>88.3</td>\n",
       "    </tr>\n",
       "    <tr>\n",
       "      <th>2</th>\n",
       "      <td>Algeria</td>\n",
       "      <td>28.8</td>\n",
       "      <td>28.8</td>\n",
       "      <td>28.8</td>\n",
       "      <td>28.8</td>\n",
       "      <td>28.8</td>\n",
       "      <td>28.8</td>\n",
       "      <td>28.8</td>\n",
       "      <td>28.8</td>\n",
       "      <td>28.8</td>\n",
       "      <td>...</td>\n",
       "      <td>88.3</td>\n",
       "      <td>88.4</td>\n",
       "      <td>88.5</td>\n",
       "      <td>88.6</td>\n",
       "      <td>88.7</td>\n",
       "      <td>88.8</td>\n",
       "      <td>88.9</td>\n",
       "      <td>89.0</td>\n",
       "      <td>89.1</td>\n",
       "      <td>89.2</td>\n",
       "    </tr>\n",
       "    <tr>\n",
       "      <th>3</th>\n",
       "      <td>Andorra</td>\n",
       "      <td>NaN</td>\n",
       "      <td>NaN</td>\n",
       "      <td>NaN</td>\n",
       "      <td>NaN</td>\n",
       "      <td>NaN</td>\n",
       "      <td>NaN</td>\n",
       "      <td>NaN</td>\n",
       "      <td>NaN</td>\n",
       "      <td>NaN</td>\n",
       "      <td>...</td>\n",
       "      <td>NaN</td>\n",
       "      <td>NaN</td>\n",
       "      <td>NaN</td>\n",
       "      <td>NaN</td>\n",
       "      <td>NaN</td>\n",
       "      <td>NaN</td>\n",
       "      <td>NaN</td>\n",
       "      <td>NaN</td>\n",
       "      <td>NaN</td>\n",
       "      <td>NaN</td>\n",
       "    </tr>\n",
       "    <tr>\n",
       "      <th>4</th>\n",
       "      <td>Angola</td>\n",
       "      <td>27.0</td>\n",
       "      <td>27.0</td>\n",
       "      <td>27.0</td>\n",
       "      <td>27.0</td>\n",
       "      <td>27.0</td>\n",
       "      <td>27.0</td>\n",
       "      <td>27.0</td>\n",
       "      <td>27.0</td>\n",
       "      <td>27.0</td>\n",
       "      <td>...</td>\n",
       "      <td>78.7</td>\n",
       "      <td>78.9</td>\n",
       "      <td>79.0</td>\n",
       "      <td>79.1</td>\n",
       "      <td>79.3</td>\n",
       "      <td>79.4</td>\n",
       "      <td>79.5</td>\n",
       "      <td>79.7</td>\n",
       "      <td>79.8</td>\n",
       "      <td>79.9</td>\n",
       "    </tr>\n",
       "  </tbody>\n",
       "</table>\n",
       "<p>5 rows × 302 columns</p>\n",
       "</div>"
      ],
      "text/plain": [
       "       country  1800  1801  1802  1803  1804  1805  1806  1807  1808  ...  \\\n",
       "0  Afghanistan  28.2  28.2  28.2  28.2  28.2  28.2  28.1  28.1  28.1  ...   \n",
       "1      Albania  35.4  35.4  35.4  35.4  35.4  35.4  35.4  35.4  35.4  ...   \n",
       "2      Algeria  28.8  28.8  28.8  28.8  28.8  28.8  28.8  28.8  28.8  ...   \n",
       "3      Andorra   NaN   NaN   NaN   NaN   NaN   NaN   NaN   NaN   NaN  ...   \n",
       "4       Angola  27.0  27.0  27.0  27.0  27.0  27.0  27.0  27.0  27.0  ...   \n",
       "\n",
       "   2091  2092  2093  2094  2095  2096  2097  2098  2099  2100  \n",
       "0  76.5  76.6  76.7  76.9  77.0  77.1  77.3  77.4  77.5  77.7  \n",
       "1  87.4  87.5  87.6  87.7  87.8  87.9  88.0  88.1  88.2  88.3  \n",
       "2  88.3  88.4  88.5  88.6  88.7  88.8  88.9  89.0  89.1  89.2  \n",
       "3   NaN   NaN   NaN   NaN   NaN   NaN   NaN   NaN   NaN   NaN  \n",
       "4  78.7  78.9  79.0  79.1  79.3  79.4  79.5  79.7  79.8  79.9  \n",
       "\n",
       "[5 rows x 302 columns]"
      ]
     },
     "execution_count": 9,
     "metadata": {},
     "output_type": "execute_result"
    }
   ],
   "source": [
    "df_life.head()"
   ]
  },
  {
   "cell_type": "code",
   "execution_count": 10,
   "metadata": {},
   "outputs": [
    {
     "data": {
      "text/plain": [
       "(187, 302)"
      ]
     },
     "execution_count": 10,
     "metadata": {},
     "output_type": "execute_result"
    }
   ],
   "source": [
    "df_life.shape"
   ]
  },
  {
   "cell_type": "code",
   "execution_count": 11,
   "metadata": {},
   "outputs": [
    {
     "data": {
      "text/html": [
       "<div>\n",
       "<style scoped>\n",
       "    .dataframe tbody tr th:only-of-type {\n",
       "        vertical-align: middle;\n",
       "    }\n",
       "\n",
       "    .dataframe tbody tr th {\n",
       "        vertical-align: top;\n",
       "    }\n",
       "\n",
       "    .dataframe thead th {\n",
       "        text-align: right;\n",
       "    }\n",
       "</style>\n",
       "<table border=\"1\" class=\"dataframe\">\n",
       "  <thead>\n",
       "    <tr style=\"text-align: right;\">\n",
       "      <th></th>\n",
       "      <th>country</th>\n",
       "      <th>1961</th>\n",
       "      <th>1962</th>\n",
       "      <th>1963</th>\n",
       "      <th>1964</th>\n",
       "      <th>1965</th>\n",
       "      <th>1966</th>\n",
       "      <th>1967</th>\n",
       "      <th>1968</th>\n",
       "      <th>1969</th>\n",
       "      <th>...</th>\n",
       "      <th>2004</th>\n",
       "      <th>2005</th>\n",
       "      <th>2006</th>\n",
       "      <th>2007</th>\n",
       "      <th>2008</th>\n",
       "      <th>2009</th>\n",
       "      <th>2010</th>\n",
       "      <th>2011</th>\n",
       "      <th>2012</th>\n",
       "      <th>2013</th>\n",
       "    </tr>\n",
       "  </thead>\n",
       "  <tbody>\n",
       "    <tr>\n",
       "      <th>0</th>\n",
       "      <td>Afghanistan</td>\n",
       "      <td>14.4</td>\n",
       "      <td>12.8</td>\n",
       "      <td>13.2</td>\n",
       "      <td>15.5</td>\n",
       "      <td>16.3</td>\n",
       "      <td>16.7</td>\n",
       "      <td>17.4</td>\n",
       "      <td>17.8</td>\n",
       "      <td>14.5</td>\n",
       "      <td>...</td>\n",
       "      <td>15.5</td>\n",
       "      <td>18.6</td>\n",
       "      <td>19.7</td>\n",
       "      <td>20.8</td>\n",
       "      <td>23.4</td>\n",
       "      <td>23.3</td>\n",
       "      <td>24.3</td>\n",
       "      <td>24.8</td>\n",
       "      <td>25.4</td>\n",
       "      <td>24.5</td>\n",
       "    </tr>\n",
       "    <tr>\n",
       "      <th>1</th>\n",
       "      <td>Albania</td>\n",
       "      <td>31.0</td>\n",
       "      <td>31.8</td>\n",
       "      <td>34.3</td>\n",
       "      <td>36.6</td>\n",
       "      <td>37.0</td>\n",
       "      <td>37.7</td>\n",
       "      <td>38.3</td>\n",
       "      <td>38.6</td>\n",
       "      <td>40.9</td>\n",
       "      <td>...</td>\n",
       "      <td>55.0</td>\n",
       "      <td>58.6</td>\n",
       "      <td>67.2</td>\n",
       "      <td>75.5</td>\n",
       "      <td>102.0</td>\n",
       "      <td>117.0</td>\n",
       "      <td>113.0</td>\n",
       "      <td>122.0</td>\n",
       "      <td>129.0</td>\n",
       "      <td>131.0</td>\n",
       "    </tr>\n",
       "    <tr>\n",
       "      <th>2</th>\n",
       "      <td>Algeria</td>\n",
       "      <td>45.0</td>\n",
       "      <td>47.0</td>\n",
       "      <td>45.3</td>\n",
       "      <td>46.7</td>\n",
       "      <td>43.7</td>\n",
       "      <td>45.1</td>\n",
       "      <td>47.3</td>\n",
       "      <td>48.1</td>\n",
       "      <td>45.8</td>\n",
       "      <td>...</td>\n",
       "      <td>84.3</td>\n",
       "      <td>75.5</td>\n",
       "      <td>77.9</td>\n",
       "      <td>86.7</td>\n",
       "      <td>78.5</td>\n",
       "      <td>85.3</td>\n",
       "      <td>85.6</td>\n",
       "      <td>74.9</td>\n",
       "      <td>82.8</td>\n",
       "      <td>78.2</td>\n",
       "    </tr>\n",
       "    <tr>\n",
       "      <th>3</th>\n",
       "      <td>Angola</td>\n",
       "      <td>25.2</td>\n",
       "      <td>30.6</td>\n",
       "      <td>33.6</td>\n",
       "      <td>29.5</td>\n",
       "      <td>29.5</td>\n",
       "      <td>28.9</td>\n",
       "      <td>29.4</td>\n",
       "      <td>34.5</td>\n",
       "      <td>30.0</td>\n",
       "      <td>...</td>\n",
       "      <td>39.3</td>\n",
       "      <td>37.1</td>\n",
       "      <td>38.3</td>\n",
       "      <td>39.5</td>\n",
       "      <td>44.1</td>\n",
       "      <td>40.2</td>\n",
       "      <td>38.9</td>\n",
       "      <td>40.1</td>\n",
       "      <td>42.7</td>\n",
       "      <td>44.7</td>\n",
       "    </tr>\n",
       "    <tr>\n",
       "      <th>4</th>\n",
       "      <td>Antigua and Barbuda</td>\n",
       "      <td>1140.0</td>\n",
       "      <td>1160.0</td>\n",
       "      <td>1410.0</td>\n",
       "      <td>1080.0</td>\n",
       "      <td>764.0</td>\n",
       "      <td>492.0</td>\n",
       "      <td>350.0</td>\n",
       "      <td>188.0</td>\n",
       "      <td>311.0</td>\n",
       "      <td>...</td>\n",
       "      <td>93.1</td>\n",
       "      <td>79.7</td>\n",
       "      <td>85.0</td>\n",
       "      <td>87.3</td>\n",
       "      <td>89.2</td>\n",
       "      <td>87.6</td>\n",
       "      <td>87.6</td>\n",
       "      <td>79.6</td>\n",
       "      <td>87.9</td>\n",
       "      <td>90.1</td>\n",
       "    </tr>\n",
       "  </tbody>\n",
       "</table>\n",
       "<p>5 rows × 54 columns</p>\n",
       "</div>"
      ],
      "text/plain": [
       "               country    1961    1962    1963    1964   1965   1966   1967  \\\n",
       "0          Afghanistan    14.4    12.8    13.2    15.5   16.3   16.7   17.4   \n",
       "1              Albania    31.0    31.8    34.3    36.6   37.0   37.7   38.3   \n",
       "2              Algeria    45.0    47.0    45.3    46.7   43.7   45.1   47.3   \n",
       "3               Angola    25.2    30.6    33.6    29.5   29.5   28.9   29.4   \n",
       "4  Antigua and Barbuda  1140.0  1160.0  1410.0  1080.0  764.0  492.0  350.0   \n",
       "\n",
       "    1968   1969  ...  2004  2005  2006  2007   2008   2009   2010   2011  \\\n",
       "0   17.8   14.5  ...  15.5  18.6  19.7  20.8   23.4   23.3   24.3   24.8   \n",
       "1   38.6   40.9  ...  55.0  58.6  67.2  75.5  102.0  117.0  113.0  122.0   \n",
       "2   48.1   45.8  ...  84.3  75.5  77.9  86.7   78.5   85.3   85.6   74.9   \n",
       "3   34.5   30.0  ...  39.3  37.1  38.3  39.5   44.1   40.2   38.9   40.1   \n",
       "4  188.0  311.0  ...  93.1  79.7  85.0  87.3   89.2   87.6   87.6   79.6   \n",
       "\n",
       "    2012   2013  \n",
       "0   25.4   24.5  \n",
       "1  129.0  131.0  \n",
       "2   82.8   78.2  \n",
       "3   42.7   44.7  \n",
       "4   87.9   90.1  \n",
       "\n",
       "[5 rows x 54 columns]"
      ]
     },
     "execution_count": 11,
     "metadata": {},
     "output_type": "execute_result"
    }
   ],
   "source": [
    "df_sugar.head()"
   ]
  },
  {
   "cell_type": "code",
   "execution_count": 12,
   "metadata": {},
   "outputs": [
    {
     "data": {
      "text/plain": [
       "True"
      ]
     },
     "execution_count": 12,
     "metadata": {},
     "output_type": "execute_result"
    }
   ],
   "source": [
    "df_sugar.isnull().any().any()"
   ]
  },
  {
   "cell_type": "code",
   "execution_count": 13,
   "metadata": {},
   "outputs": [
    {
     "data": {
      "text/plain": [
       "(168, 54)"
      ]
     },
     "execution_count": 13,
     "metadata": {},
     "output_type": "execute_result"
    }
   ],
   "source": [
    "df_sugar.shape"
   ]
  },
  {
   "cell_type": "markdown",
   "metadata": {},
   "source": [
    "It looks like there are null values in all of the four datasets. There all also mismatched shapes across the datasets which indicates that the same years are not accounted for in all datasets (rows), and not all countries are accounted for in all datasets (columns). "
   ]
  },
  {
   "cell_type": "markdown",
   "metadata": {},
   "source": [
    "<a id='wrangling'></a>\n",
    "## Data Wrangling\n",
    "### General Properties\n",
    "> There are two functions in the code cells above that I created to be used in the data wrangling process. They are \"munge\" and \"match_shape\". \n",
    ">\n",
    ">Munge transposes the DataFrame and then swaps the first two rows so that the year becomes the index and the countries and their selected indicator become the columns. This is done so we can compare across indicators for a given country. The way the data was originally arranged was good for looking at trends from past to present for different countries, but not for comparing different indicators.\n",
    ">\n",
    "> Match_shape function is used to match the shape of the DataFrames so that null data is ignored and the frames can be merged into a single DataFrame."
   ]
  },
  {
   "cell_type": "markdown",
   "metadata": {},
   "source": [
    "Next we use munge to transpose the index (years) and columns (countries), as well as trim the datasets down to match the size of the smallest dataset in order to be able to effectively visualize each indicator. "
   ]
  },
  {
   "cell_type": "code",
   "execution_count": 14,
   "metadata": {},
   "outputs": [],
   "source": [
    "df_cancer_m, df_cancer_f, df_life, df_sugar = map(munge, (df_cancer_m, df_cancer_f, df_life, df_sugar))"
   ]
  },
  {
   "cell_type": "markdown",
   "metadata": {},
   "source": [
    "I would also like to remove either years (rows) or countries (columns) that have missing data. I chose to remove rather than fill in missing data because mean values or interpolations would be misleading because we need to know exact information for given indicators. For example, when looking at new cancer cases it would be misleading to use the mean to fill in missing values because we don't know if new cases actually increased or decreased, and to what extent. "
   ]
  },
  {
   "cell_type": "code",
   "execution_count": 15,
   "metadata": {},
   "outputs": [],
   "source": [
    "df_cancer_m.dropna(axis=0, inplace=True)\n",
    "df_cancer_f.dropna(axis=0, inplace=True)\n",
    "df_sugar.dropna(axis=1, inplace=True)\n",
    "df_life.dropna(axis=1, inplace=True)"
   ]
  },
  {
   "cell_type": "markdown",
   "metadata": {},
   "source": [
    "Let's match the shapes of our datasets before merging."
   ]
  },
  {
   "cell_type": "code",
   "execution_count": 16,
   "metadata": {},
   "outputs": [],
   "source": [
    "df_sugar, df_life = match_shape(df_sugar, df_life)\n",
    "df_cancer_m, df_cancer_f = match_shape(df_cancer_m, df_cancer_f)\n",
    "df_sugar, df_cancer_m = match_shape(df_sugar, df_cancer_m)"
   ]
  },
  {
   "cell_type": "code",
   "execution_count": 17,
   "metadata": {},
   "outputs": [],
   "source": [
    "# Get list of countries before DataFrames are merged with indicator suffixes\n",
    "countries = [country.lower().replace(' ', '_') for country in df_sugar.columns]"
   ]
  },
  {
   "cell_type": "markdown",
   "metadata": {},
   "source": [
    "Here, we are renaming the columns with suffixes relevant to each indicatior. "
   ]
  },
  {
   "cell_type": "code",
   "execution_count": 18,
   "metadata": {},
   "outputs": [],
   "source": [
    "df_sugar.rename(mapper=lambda x: x.lower().replace(' ', '_') + \"_sugar\", axis=1, inplace=True)\n",
    "df_life.rename(mapper=lambda x: x.lower().replace(' ', '_') + \"_life\", axis=1, inplace=True)\n",
    "df_cancer_m.rename(mapper=lambda x: x.lower().replace(' ', '_') + \"_cancer_m\", axis=1, inplace=True)\n",
    "df_cancer_f.rename(mapper=lambda x: x.lower().replace(' ', '_') + \"_cancer_f\", axis=1, inplace=True)"
   ]
  },
  {
   "cell_type": "markdown",
   "metadata": {},
   "source": [
    "Merge all DataFrames\n",
    "<ul>\n",
    "<li>df_cmb - combined DataFrames (df_cancer_m, df_cancer_f, df_life, df_sugar)</li>\n",
    "</ul>"
   ]
  },
  {
   "cell_type": "code",
   "execution_count": 19,
   "metadata": {},
   "outputs": [],
   "source": [
    "df_cmb_1 = pd.merge(df_cancer_m, df_cancer_f, left_index=True, right_index=True, how='inner')\n",
    "df_cmb_2 = pd.merge(df_life, df_sugar, left_index=True, right_index=True, how='inner')\n",
    "df_cmb = pd.merge(df_cmb_1, df_cmb_2, left_index=True, right_index=True, how='inner')"
   ]
  },
  {
   "cell_type": "markdown",
   "metadata": {},
   "source": [
    "Sort columns in order to make it easier to verify our merge worked correctly."
   ]
  },
  {
   "cell_type": "code",
   "execution_count": 20,
   "metadata": {},
   "outputs": [],
   "source": [
    "df_cmb = df_cmb.reindex(sorted(df_cmb.columns), axis=1);"
   ]
  },
  {
   "cell_type": "code",
   "execution_count": 21,
   "metadata": {},
   "outputs": [
    {
     "data": {
      "text/html": [
       "<div>\n",
       "<style scoped>\n",
       "    .dataframe tbody tr th:only-of-type {\n",
       "        vertical-align: middle;\n",
       "    }\n",
       "\n",
       "    .dataframe tbody tr th {\n",
       "        vertical-align: top;\n",
       "    }\n",
       "\n",
       "    .dataframe thead th {\n",
       "        text-align: right;\n",
       "    }\n",
       "</style>\n",
       "<table border=\"1\" class=\"dataframe\">\n",
       "  <thead>\n",
       "    <tr style=\"text-align: right;\">\n",
       "      <th></th>\n",
       "      <th>afghanistan_cancer_f</th>\n",
       "      <th>afghanistan_cancer_m</th>\n",
       "      <th>afghanistan_life</th>\n",
       "      <th>afghanistan_sugar</th>\n",
       "      <th>albania_cancer_f</th>\n",
       "      <th>albania_cancer_m</th>\n",
       "      <th>albania_life</th>\n",
       "      <th>albania_sugar</th>\n",
       "      <th>algeria_cancer_f</th>\n",
       "      <th>algeria_cancer_m</th>\n",
       "      <th>...</th>\n",
       "      <th>yemen_life</th>\n",
       "      <th>yemen_sugar</th>\n",
       "      <th>zambia_cancer_f</th>\n",
       "      <th>zambia_cancer_m</th>\n",
       "      <th>zambia_life</th>\n",
       "      <th>zambia_sugar</th>\n",
       "      <th>zimbabwe_cancer_f</th>\n",
       "      <th>zimbabwe_cancer_m</th>\n",
       "      <th>zimbabwe_life</th>\n",
       "      <th>zimbabwe_sugar</th>\n",
       "    </tr>\n",
       "  </thead>\n",
       "  <tbody>\n",
       "    <tr>\n",
       "      <th>1990</th>\n",
       "      <td>5.58</td>\n",
       "      <td>6.51</td>\n",
       "      <td>52.6</td>\n",
       "      <td>10</td>\n",
       "      <td>7.18</td>\n",
       "      <td>14.6</td>\n",
       "      <td>73.3</td>\n",
       "      <td>49.9</td>\n",
       "      <td>2.48</td>\n",
       "      <td>4.01</td>\n",
       "      <td>...</td>\n",
       "      <td>58.7</td>\n",
       "      <td>59.3</td>\n",
       "      <td>6.48</td>\n",
       "      <td>9.56</td>\n",
       "      <td>50.7</td>\n",
       "      <td>46.5</td>\n",
       "      <td>15.4</td>\n",
       "      <td>29</td>\n",
       "      <td>60.9</td>\n",
       "      <td>57.5</td>\n",
       "    </tr>\n",
       "    <tr>\n",
       "      <th>1991</th>\n",
       "      <td>5.61</td>\n",
       "      <td>6.52</td>\n",
       "      <td>52.4</td>\n",
       "      <td>9.61</td>\n",
       "      <td>7.3</td>\n",
       "      <td>15</td>\n",
       "      <td>73</td>\n",
       "      <td>50.2</td>\n",
       "      <td>2.28</td>\n",
       "      <td>3.69</td>\n",
       "      <td>...</td>\n",
       "      <td>59.2</td>\n",
       "      <td>56.5</td>\n",
       "      <td>6.62</td>\n",
       "      <td>9.53</td>\n",
       "      <td>49.5</td>\n",
       "      <td>45.7</td>\n",
       "      <td>15</td>\n",
       "      <td>28.3</td>\n",
       "      <td>59.5</td>\n",
       "      <td>55.9</td>\n",
       "    </tr>\n",
       "    <tr>\n",
       "      <th>1992</th>\n",
       "      <td>5.66</td>\n",
       "      <td>6.55</td>\n",
       "      <td>52.9</td>\n",
       "      <td>10.8</td>\n",
       "      <td>7.42</td>\n",
       "      <td>15.5</td>\n",
       "      <td>73.4</td>\n",
       "      <td>51.2</td>\n",
       "      <td>2.1</td>\n",
       "      <td>3.39</td>\n",
       "      <td>...</td>\n",
       "      <td>59.6</td>\n",
       "      <td>57.2</td>\n",
       "      <td>6.77</td>\n",
       "      <td>9.52</td>\n",
       "      <td>48.4</td>\n",
       "      <td>45.1</td>\n",
       "      <td>14.6</td>\n",
       "      <td>27.7</td>\n",
       "      <td>57.6</td>\n",
       "      <td>57</td>\n",
       "    </tr>\n",
       "    <tr>\n",
       "      <th>1993</th>\n",
       "      <td>5.71</td>\n",
       "      <td>6.58</td>\n",
       "      <td>53.1</td>\n",
       "      <td>9.12</td>\n",
       "      <td>7.54</td>\n",
       "      <td>15.9</td>\n",
       "      <td>73.9</td>\n",
       "      <td>76.1</td>\n",
       "      <td>1.94</td>\n",
       "      <td>3.13</td>\n",
       "      <td>...</td>\n",
       "      <td>60</td>\n",
       "      <td>56.4</td>\n",
       "      <td>6.92</td>\n",
       "      <td>9.5</td>\n",
       "      <td>47.6</td>\n",
       "      <td>44.5</td>\n",
       "      <td>14.3</td>\n",
       "      <td>27.1</td>\n",
       "      <td>55.6</td>\n",
       "      <td>56.4</td>\n",
       "    </tr>\n",
       "    <tr>\n",
       "      <th>1994</th>\n",
       "      <td>5.77</td>\n",
       "      <td>6.6</td>\n",
       "      <td>52.7</td>\n",
       "      <td>8.22</td>\n",
       "      <td>7.67</td>\n",
       "      <td>16.4</td>\n",
       "      <td>74.5</td>\n",
       "      <td>97.5</td>\n",
       "      <td>1.79</td>\n",
       "      <td>2.88</td>\n",
       "      <td>...</td>\n",
       "      <td>60.2</td>\n",
       "      <td>56.2</td>\n",
       "      <td>7.08</td>\n",
       "      <td>9.49</td>\n",
       "      <td>46.8</td>\n",
       "      <td>40.6</td>\n",
       "      <td>13.9</td>\n",
       "      <td>26.5</td>\n",
       "      <td>53.8</td>\n",
       "      <td>56.6</td>\n",
       "    </tr>\n",
       "  </tbody>\n",
       "</table>\n",
       "<p>5 rows × 604 columns</p>\n",
       "</div>"
      ],
      "text/plain": [
       "     afghanistan_cancer_f afghanistan_cancer_m afghanistan_life  \\\n",
       "1990                 5.58                 6.51             52.6   \n",
       "1991                 5.61                 6.52             52.4   \n",
       "1992                 5.66                 6.55             52.9   \n",
       "1993                 5.71                 6.58             53.1   \n",
       "1994                 5.77                  6.6             52.7   \n",
       "\n",
       "     afghanistan_sugar albania_cancer_f albania_cancer_m albania_life  \\\n",
       "1990                10             7.18             14.6         73.3   \n",
       "1991              9.61              7.3               15           73   \n",
       "1992              10.8             7.42             15.5         73.4   \n",
       "1993              9.12             7.54             15.9         73.9   \n",
       "1994              8.22             7.67             16.4         74.5   \n",
       "\n",
       "     albania_sugar algeria_cancer_f algeria_cancer_m  ... yemen_life  \\\n",
       "1990          49.9             2.48             4.01  ...       58.7   \n",
       "1991          50.2             2.28             3.69  ...       59.2   \n",
       "1992          51.2              2.1             3.39  ...       59.6   \n",
       "1993          76.1             1.94             3.13  ...         60   \n",
       "1994          97.5             1.79             2.88  ...       60.2   \n",
       "\n",
       "     yemen_sugar zambia_cancer_f zambia_cancer_m zambia_life zambia_sugar  \\\n",
       "1990        59.3            6.48            9.56        50.7         46.5   \n",
       "1991        56.5            6.62            9.53        49.5         45.7   \n",
       "1992        57.2            6.77            9.52        48.4         45.1   \n",
       "1993        56.4            6.92             9.5        47.6         44.5   \n",
       "1994        56.2            7.08            9.49        46.8         40.6   \n",
       "\n",
       "     zimbabwe_cancer_f zimbabwe_cancer_m zimbabwe_life zimbabwe_sugar  \n",
       "1990              15.4                29          60.9           57.5  \n",
       "1991                15              28.3          59.5           55.9  \n",
       "1992              14.6              27.7          57.6             57  \n",
       "1993              14.3              27.1          55.6           56.4  \n",
       "1994              13.9              26.5          53.8           56.6  \n",
       "\n",
       "[5 rows x 604 columns]"
      ]
     },
     "execution_count": 21,
     "metadata": {},
     "output_type": "execute_result"
    }
   ],
   "source": [
    "df_cmb.head()"
   ]
  },
  {
   "cell_type": "markdown",
   "metadata": {},
   "source": [
    "Let's make sure the datatype for df_cmb is appropriate."
   ]
  },
  {
   "cell_type": "code",
   "execution_count": 22,
   "metadata": {},
   "outputs": [
    {
     "data": {
      "text/plain": [
       "afghanistan_cancer_f    object\n",
       "afghanistan_cancer_m    object\n",
       "afghanistan_life        object\n",
       "afghanistan_sugar       object\n",
       "albania_cancer_f        object\n",
       "                         ...  \n",
       "zambia_sugar            object\n",
       "zimbabwe_cancer_f       object\n",
       "zimbabwe_cancer_m       object\n",
       "zimbabwe_life           object\n",
       "zimbabwe_sugar          object\n",
       "Length: 604, dtype: object"
      ]
     },
     "execution_count": 22,
     "metadata": {},
     "output_type": "execute_result"
    }
   ],
   "source": [
    "df_cmb.dtypes"
   ]
  },
  {
   "cell_type": "markdown",
   "metadata": {},
   "source": [
    "Finally, let's convert all of our datatypes to 'float64' so that we can correctly visualize the data."
   ]
  },
  {
   "cell_type": "code",
   "execution_count": 23,
   "metadata": {},
   "outputs": [],
   "source": [
    "df_cmb = df_cmb.astype('float64')"
   ]
  },
  {
   "cell_type": "code",
   "execution_count": 24,
   "metadata": {},
   "outputs": [
    {
     "data": {
      "text/plain": [
       "afghanistan_cancer_f    float64\n",
       "afghanistan_cancer_m    float64\n",
       "afghanistan_life        float64\n",
       "afghanistan_sugar       float64\n",
       "albania_cancer_f        float64\n",
       "                         ...   \n",
       "zambia_sugar            float64\n",
       "zimbabwe_cancer_f       float64\n",
       "zimbabwe_cancer_m       float64\n",
       "zimbabwe_life           float64\n",
       "zimbabwe_sugar          float64\n",
       "Length: 604, dtype: object"
      ]
     },
     "execution_count": 24,
     "metadata": {},
     "output_type": "execute_result"
    }
   ],
   "source": [
    "df_cmb.dtypes"
   ]
  },
  {
   "cell_type": "markdown",
   "metadata": {},
   "source": [
    "<a id='eda'></a>\n",
    "## Exploratory Data Analysis\n",
    "\n",
    "> We will explore data for the United States. However, there are over 150 countries in our combined dataset that can be explored. It would be interesting to see if there are differences in trends between countries, however these questions are beyond the scope of this report.\n",
    "\n",
    "### Is sugar consumption increasing with time? Are new cases of male/female liver cancer increasing with time? Is life expectancy increasing with time? "
   ]
  },
  {
   "cell_type": "code",
   "execution_count": 25,
   "metadata": {},
   "outputs": [
    {
     "data": {
      "image/png": "[encoded data removed]",
      "text/plain": [
       "<Figure size 864x288 with 1 Axes>"
      ]
     },
     "metadata": {
      "needs_background": "light"
     },
     "output_type": "display_data"
    }
   ],
   "source": [
    "plt.figure(figsize=(12,4))\n",
    "plt.plot(df_cmb['united_states_sugar'])\n",
    "plt.title('Sugar consumption in United States')\n",
    "plt.xlabel('Year')\n",
    "plt.ylabel('Sugar (g per person)')\n",
    "plt.show()"
   ]
  },
  {
   "cell_type": "code",
   "execution_count": 26,
   "metadata": {},
   "outputs": [
    {
     "data": {
      "image/png": "[encoded data removed]",
      "text/plain": [
       "<Figure size 864x288 with 1 Axes>"
      ]
     },
     "metadata": {
      "needs_background": "light"
     },
     "output_type": "display_data"
    }
   ],
   "source": [
    "plt.figure(figsize=(12,4))\n",
    "plt.plot(df_cmb['united_states_life'])\n",
    "plt.title('Life expectancy in United States')\n",
    "plt.xlabel('Year')\n",
    "plt.ylabel('Life expectancy')\n",
    "plt.show()"
   ]
  },
  {
   "cell_type": "code",
   "execution_count": 27,
   "metadata": {},
   "outputs": [
    {
     "data": {
      "image/png": "[encoded data removed]",
      "text/plain": [
       "<Figure size 864x288 with 1 Axes>"
      ]
     },
     "metadata": {
      "needs_background": "light"
     },
     "output_type": "display_data"
    }
   ],
   "source": [
    "plt.figure(figsize=(12,4))\n",
    "plt.plot(df_cmb['united_states_cancer_m'])\n",
    "plt.title('Liver cancer (male) in United States')\n",
    "plt.xlabel('Year')\n",
    "plt.ylabel('New cases per 100k')\n",
    "plt.show()"
   ]
  },
  {
   "cell_type": "code",
   "execution_count": 28,
   "metadata": {},
   "outputs": [
    {
     "data": {
      "image/png": "[encoded data removed]",
      "text/plain": [
       "<Figure size 864x288 with 1 Axes>"
      ]
     },
     "metadata": {
      "needs_background": "light"
     },
     "output_type": "display_data"
    }
   ],
   "source": [
    "plt.figure(figsize=(12,4))\n",
    "plt.plot(df_cmb['united_states_cancer_f'])\n",
    "plt.title('Live cancer (female) in United States')\n",
    "plt.xlabel('Year')\n",
    "plt.ylabel('New cases per 100k')\n",
    "plt.show()"
   ]
  },
  {
   "cell_type": "markdown",
   "metadata": {},
   "source": [
    "Clearly, all four indicators are increasing with time! However, sugar consumption declined from 1998 to 2001, then again from 2004 to 2009. The two cancer indicators have been steadily increasing since 1990. Interestingly, life expectancy during 1998 to 2001 flatlined, but otherwise has been increasing since 1990."
   ]
  },
  {
   "cell_type": "markdown",
   "metadata": {},
   "source": [
    "### Is sugar consumption correlated with lifespan or a greater number of occurrences of liver cancer in men or women?"
   ]
  },
  {
   "cell_type": "markdown",
   "metadata": {},
   "source": [
    "In order to determine this, let's compute pairwise correlation across two indicators. Values closer to -1 show a negative correlation meaning identifiers are moving in opposite directions. Values closer to 1 show a positive correlation meaning values move in same direction."
   ]
  },
  {
   "cell_type": "code",
   "execution_count": 29,
   "metadata": {},
   "outputs": [],
   "source": [
    "corr_life = df_cmb['united_states_sugar'].corr(df_cmb['united_states_life'])\n",
    "corr_cancer_m = df_cmb['united_states_sugar'].corr(df_cmb['united_states_cancer_m'])\n",
    "corr_cancer_f = df_cmb['united_states_sugar'].corr(df_cmb['united_states_cancer_f'])"
   ]
  },
  {
   "cell_type": "code",
   "execution_count": 30,
   "metadata": {},
   "outputs": [
    {
     "name": "stdout",
     "output_type": "stream",
     "text": [
      "Sugar correlation vs life expectancy: -0.35670810356981575, \n",
      "cancer (m): -0.38380235053987793, \n",
      "cancer (f): -0.306486604792611\n"
     ]
    }
   ],
   "source": [
    "print(\"Sugar correlation vs life expectancy: {}, \\ncancer (m): {}, \\ncancer (f): {}\" \\\n",
    "      .format(corr_life, corr_cancer_m, corr_cancer_f))"
   ]
  },
  {
   "cell_type": "markdown",
   "metadata": {},
   "source": [
    "Based on this information, it appears that there is a weak negative correlation between sugar consumption and life expectancy, and sugar consumption and cancer rates in both men and women."
   ]
  },
  {
   "cell_type": "markdown",
   "metadata": {},
   "source": [
    "Let's compute some descriptive statistics to better understand our data, and see if anything stands out."
   ]
  },
  {
   "cell_type": "code",
   "execution_count": 31,
   "metadata": {},
   "outputs": [
    {
     "data": {
      "text/html": [
       "<div>\n",
       "<style scoped>\n",
       "    .dataframe tbody tr th:only-of-type {\n",
       "        vertical-align: middle;\n",
       "    }\n",
       "\n",
       "    .dataframe tbody tr th {\n",
       "        vertical-align: top;\n",
       "    }\n",
       "\n",
       "    .dataframe thead th {\n",
       "        text-align: right;\n",
       "    }\n",
       "</style>\n",
       "<table border=\"1\" class=\"dataframe\">\n",
       "  <thead>\n",
       "    <tr style=\"text-align: right;\">\n",
       "      <th></th>\n",
       "      <th>united_states_cancer_m</th>\n",
       "      <th>united_states_cancer_f</th>\n",
       "      <th>united_states_sugar</th>\n",
       "      <th>united_states_life</th>\n",
       "    </tr>\n",
       "  </thead>\n",
       "  <tbody>\n",
       "    <tr>\n",
       "      <th>count</th>\n",
       "      <td>24.000000</td>\n",
       "      <td>24.000000</td>\n",
       "      <td>24.000000</td>\n",
       "      <td>24.000000</td>\n",
       "    </tr>\n",
       "    <tr>\n",
       "      <th>mean</th>\n",
       "      <td>7.804167</td>\n",
       "      <td>2.903750</td>\n",
       "      <td>181.875000</td>\n",
       "      <td>77.166667</td>\n",
       "    </tr>\n",
       "    <tr>\n",
       "      <th>std</th>\n",
       "      <td>2.093968</td>\n",
       "      <td>0.445195</td>\n",
       "      <td>9.256314</td>\n",
       "      <td>1.104798</td>\n",
       "    </tr>\n",
       "    <tr>\n",
       "      <th>min</th>\n",
       "      <td>4.730000</td>\n",
       "      <td>2.150000</td>\n",
       "      <td>165.000000</td>\n",
       "      <td>75.600000</td>\n",
       "    </tr>\n",
       "    <tr>\n",
       "      <th>25%</th>\n",
       "      <td>6.087500</td>\n",
       "      <td>2.575000</td>\n",
       "      <td>174.750000</td>\n",
       "      <td>76.200000</td>\n",
       "    </tr>\n",
       "    <tr>\n",
       "      <th>50%</th>\n",
       "      <td>7.555000</td>\n",
       "      <td>2.900000</td>\n",
       "      <td>183.000000</td>\n",
       "      <td>76.950000</td>\n",
       "    </tr>\n",
       "    <tr>\n",
       "      <th>75%</th>\n",
       "      <td>9.512500</td>\n",
       "      <td>3.242500</td>\n",
       "      <td>189.750000</td>\n",
       "      <td>78.050000</td>\n",
       "    </tr>\n",
       "    <tr>\n",
       "      <th>max</th>\n",
       "      <td>11.100000</td>\n",
       "      <td>3.610000</td>\n",
       "      <td>194.000000</td>\n",
       "      <td>78.900000</td>\n",
       "    </tr>\n",
       "  </tbody>\n",
       "</table>\n",
       "</div>"
      ],
      "text/plain": [
       "       united_states_cancer_m  united_states_cancer_f  united_states_sugar  \\\n",
       "count               24.000000               24.000000            24.000000   \n",
       "mean                 7.804167                2.903750           181.875000   \n",
       "std                  2.093968                0.445195             9.256314   \n",
       "min                  4.730000                2.150000           165.000000   \n",
       "25%                  6.087500                2.575000           174.750000   \n",
       "50%                  7.555000                2.900000           183.000000   \n",
       "75%                  9.512500                3.242500           189.750000   \n",
       "max                 11.100000                3.610000           194.000000   \n",
       "\n",
       "       united_states_life  \n",
       "count           24.000000  \n",
       "mean            77.166667  \n",
       "std              1.104798  \n",
       "min             75.600000  \n",
       "25%             76.200000  \n",
       "50%             76.950000  \n",
       "75%             78.050000  \n",
       "max             78.900000  "
      ]
     },
     "execution_count": 31,
     "metadata": {},
     "output_type": "execute_result"
    }
   ],
   "source": [
    "df_cmb[['united_states_cancer_m', 'united_states_cancer_f', 'united_states_sugar', 'united_states_life']].describe()"
   ]
  },
  {
   "cell_type": "markdown",
   "metadata": {},
   "source": [
    "Let's visualize these relationships using scatterplots."
   ]
  },
  {
   "cell_type": "code",
   "execution_count": 32,
   "metadata": {},
   "outputs": [
    {
     "data": {
      "image/png": "[encoded data removed]",
      "text/plain": [
       "<Figure size 432x288 with 1 Axes>"
      ]
     },
     "metadata": {
      "needs_background": "light"
     },
     "output_type": "display_data"
    }
   ],
   "source": [
    "plt.figure()\n",
    "plt.scatter(y=df_cmb['united_states_sugar'], x=df_cmb[\"united_states_cancer_f\"])\n",
    "plt.title(\"Sugar consumption vs Cancer (f)\")\n",
    "plt.ylabel(\"Sugar consumption (g per person)\")\n",
    "plt.xlabel(\"New cases per 100k\")\n",
    "plt.show()"
   ]
  },
  {
   "cell_type": "code",
   "execution_count": 33,
   "metadata": {},
   "outputs": [
    {
     "data": {
      "image/png": "[encoded data removed]",
      "text/plain": [
       "<Figure size 432x288 with 1 Axes>"
      ]
     },
     "metadata": {
      "needs_background": "light"
     },
     "output_type": "display_data"
    }
   ],
   "source": [
    "plt.figure()\n",
    "plt.scatter(y=df_cmb['united_states_sugar'], x=df_cmb[\"united_states_cancer_m\"])\n",
    "plt.title(\"Sugar consumption vs Cancer (m)\")\n",
    "plt.ylabel(\"Sugar consumption (g per person)\")\n",
    "plt.xlabel(\"New cases per 100k\")\n",
    "plt.show()"
   ]
  },
  {
   "cell_type": "code",
   "execution_count": 34,
   "metadata": {},
   "outputs": [
    {
     "data": {
      "image/png": "[encoded data removed]",
      "text/plain": [
       "<Figure size 432x288 with 1 Axes>"
      ]
     },
     "metadata": {
      "needs_background": "light"
     },
     "output_type": "display_data"
    }
   ],
   "source": [
    "plt.figure()\n",
    "plt.scatter(y=df_cmb['united_states_sugar'], x=df_cmb[\"united_states_life\"])\n",
    "plt.title(\"Sugar consumption vs Life Expectancy\")\n",
    "plt.ylabel(\"Sugar consumption (g per person)\")\n",
    "plt.xlabel(\"Life expectancy\")\n",
    "plt.show()"
   ]
  },
  {
   "cell_type": "markdown",
   "metadata": {},
   "source": [
    "<a id='conclusions'></a>\n",
    "## Conclusions\n",
    "\n",
    "> Life expectancy, new liver cancer cases per 100k male, and new liver cases per 100k female have been increasing since 1990, whether sugar consumption increases or decreases. \n",
    "\n",
    "> It does look like there is a small negative correlation between sugar consumption and the life expectancy. This shows that as sugar consumption decreased, life expectancy increased. So sugar consumption may be correlated with higher life expectancy. However, there are many variables to consider when looking at life expectancy. It would be great to look at more.\n",
    "\n",
    "> I was suprised to see there is no positive correlation between sugar consumption and liver cancer. Again, there are many variables to consider when predicting whether or not a person will get cancer. However, this was interesting to see because many experts believe sugar does influence cancer progression.  \n",
    "\n",
    "> It is also interesting to see from the descriptive statistics that in males new liver cancer cases are nearly triple that of females, regardless of sugar consumption. Why is this?\n",
    "\n",
    "> Note that correlation does not equal causation, but it can still give us an idea of whether or not there is any correlation that would warrant further investigation."
   ]
  }
 ],
 "metadata": {
  "kernelspec": {
   "display_name": "Python 3",
   "language": "python",
   "name": "python3"
  },
  "language_info": {
   "codemirror_mode": {
    "name": "ipython",
    "version": 3
   },
   "file_extension": ".py",
   "mimetype": "text/x-python",
   "name": "python",
   "nbconvert_exporter": "python",
   "pygments_lexer": "ipython3",
   "version": "3.8.3"
  }
 },
 "nbformat": 4,
 "nbformat_minor": 4
}
